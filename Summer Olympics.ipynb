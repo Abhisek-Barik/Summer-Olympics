{
 "cells": [
  {
   "cell_type": "markdown",
   "id": "e5a39293",
   "metadata": {},
   "source": [
    "# ☀️Summer Olympics Data Analysis Assignment☀️ ~ ⭐Abhisek Barik⭐"
   ]
  },
  {
   "cell_type": "markdown",
   "id": "bf777be6",
   "metadata": {},
   "source": [
    "### 📌Importing the required libraries to work on the dataset\n",
    "🔰 pd, np, plt & sns are just short names assigned so that we dont need to write full names again & again."
   ]
  },
  {
   "cell_type": "code",
   "execution_count": 1,
   "id": "2ad81446",
   "metadata": {},
   "outputs": [],
   "source": [
    "import pandas as pd\n",
    "import numpy as np\n",
    "import matplotlib.pyplot as plt\n",
    "import seaborn as sns"
   ]
  },
  {
   "cell_type": "markdown",
   "id": "c4e26a2e",
   "metadata": {},
   "source": [
    "### 📌Loading the particular dataset to analyse it for analysis\n",
    "🔰 df is a variable which means dataframe (whenever we're loading the data in pandas, it would be loaded as dataframe).\n",
    "\n",
    "🔰 As we have the dataset in csv format, we'll use this below function with the extension of .csv & will define the filename using quotes."
   ]
  },
  {
   "cell_type": "code",
   "execution_count": 2,
   "id": "02c59e4f",
   "metadata": {},
   "outputs": [],
   "source": [
    "df = pd.read_csv(\"summer.csv\")"
   ]
  },
  {
   "cell_type": "markdown",
   "id": "681c09d4",
   "metadata": {},
   "source": [
    "### 📌First 5 rows & Last 5 rows are visible with their columns (with specifying the shape of the dataset)"
   ]
  },
  {
   "cell_type": "code",
   "execution_count": 3,
   "id": "4b9044ea",
   "metadata": {},
   "outputs": [
    {
     "data": {
      "text/html": [
       "<div>\n",
       "<style scoped>\n",
       "    .dataframe tbody tr th:only-of-type {\n",
       "        vertical-align: middle;\n",
       "    }\n",
       "\n",
       "    .dataframe tbody tr th {\n",
       "        vertical-align: top;\n",
       "    }\n",
       "\n",
       "    .dataframe thead th {\n",
       "        text-align: right;\n",
       "    }\n",
       "</style>\n",
       "<table border=\"1\" class=\"dataframe\">\n",
       "  <thead>\n",
       "    <tr style=\"text-align: right;\">\n",
       "      <th></th>\n",
       "      <th>Year</th>\n",
       "      <th>City</th>\n",
       "      <th>Sport</th>\n",
       "      <th>Discipline</th>\n",
       "      <th>Athlete</th>\n",
       "      <th>Country</th>\n",
       "      <th>Gender</th>\n",
       "      <th>Event</th>\n",
       "      <th>Medal</th>\n",
       "    </tr>\n",
       "  </thead>\n",
       "  <tbody>\n",
       "    <tr>\n",
       "      <th>0</th>\n",
       "      <td>1896</td>\n",
       "      <td>Athens</td>\n",
       "      <td>Aquatics</td>\n",
       "      <td>Swimming</td>\n",
       "      <td>HAJOS, Alfred</td>\n",
       "      <td>HUN</td>\n",
       "      <td>Men</td>\n",
       "      <td>100M Freestyle</td>\n",
       "      <td>Gold</td>\n",
       "    </tr>\n",
       "    <tr>\n",
       "      <th>1</th>\n",
       "      <td>1896</td>\n",
       "      <td>Athens</td>\n",
       "      <td>Aquatics</td>\n",
       "      <td>Swimming</td>\n",
       "      <td>HERSCHMANN, Otto</td>\n",
       "      <td>AUT</td>\n",
       "      <td>Men</td>\n",
       "      <td>100M Freestyle</td>\n",
       "      <td>Silver</td>\n",
       "    </tr>\n",
       "    <tr>\n",
       "      <th>2</th>\n",
       "      <td>1896</td>\n",
       "      <td>Athens</td>\n",
       "      <td>Aquatics</td>\n",
       "      <td>Swimming</td>\n",
       "      <td>DRIVAS, Dimitrios</td>\n",
       "      <td>GRE</td>\n",
       "      <td>Men</td>\n",
       "      <td>100M Freestyle For Sailors</td>\n",
       "      <td>Bronze</td>\n",
       "    </tr>\n",
       "    <tr>\n",
       "      <th>3</th>\n",
       "      <td>1896</td>\n",
       "      <td>Athens</td>\n",
       "      <td>Aquatics</td>\n",
       "      <td>Swimming</td>\n",
       "      <td>MALOKINIS, Ioannis</td>\n",
       "      <td>GRE</td>\n",
       "      <td>Men</td>\n",
       "      <td>100M Freestyle For Sailors</td>\n",
       "      <td>Gold</td>\n",
       "    </tr>\n",
       "    <tr>\n",
       "      <th>4</th>\n",
       "      <td>1896</td>\n",
       "      <td>Athens</td>\n",
       "      <td>Aquatics</td>\n",
       "      <td>Swimming</td>\n",
       "      <td>CHASAPIS, Spiridon</td>\n",
       "      <td>GRE</td>\n",
       "      <td>Men</td>\n",
       "      <td>100M Freestyle For Sailors</td>\n",
       "      <td>Silver</td>\n",
       "    </tr>\n",
       "    <tr>\n",
       "      <th>...</th>\n",
       "      <td>...</td>\n",
       "      <td>...</td>\n",
       "      <td>...</td>\n",
       "      <td>...</td>\n",
       "      <td>...</td>\n",
       "      <td>...</td>\n",
       "      <td>...</td>\n",
       "      <td>...</td>\n",
       "      <td>...</td>\n",
       "    </tr>\n",
       "    <tr>\n",
       "      <th>31160</th>\n",
       "      <td>2012</td>\n",
       "      <td>London</td>\n",
       "      <td>Wrestling</td>\n",
       "      <td>Wrestling Freestyle</td>\n",
       "      <td>JANIKOWSKI, Damian</td>\n",
       "      <td>POL</td>\n",
       "      <td>Men</td>\n",
       "      <td>Wg 84 KG</td>\n",
       "      <td>Bronze</td>\n",
       "    </tr>\n",
       "    <tr>\n",
       "      <th>31161</th>\n",
       "      <td>2012</td>\n",
       "      <td>London</td>\n",
       "      <td>Wrestling</td>\n",
       "      <td>Wrestling Freestyle</td>\n",
       "      <td>REZAEI, Ghasem Gholamreza</td>\n",
       "      <td>IRI</td>\n",
       "      <td>Men</td>\n",
       "      <td>Wg 96 KG</td>\n",
       "      <td>Gold</td>\n",
       "    </tr>\n",
       "    <tr>\n",
       "      <th>31162</th>\n",
       "      <td>2012</td>\n",
       "      <td>London</td>\n",
       "      <td>Wrestling</td>\n",
       "      <td>Wrestling Freestyle</td>\n",
       "      <td>TOTROV, Rustam</td>\n",
       "      <td>RUS</td>\n",
       "      <td>Men</td>\n",
       "      <td>Wg 96 KG</td>\n",
       "      <td>Silver</td>\n",
       "    </tr>\n",
       "    <tr>\n",
       "      <th>31163</th>\n",
       "      <td>2012</td>\n",
       "      <td>London</td>\n",
       "      <td>Wrestling</td>\n",
       "      <td>Wrestling Freestyle</td>\n",
       "      <td>ALEKSANYAN, Artur</td>\n",
       "      <td>ARM</td>\n",
       "      <td>Men</td>\n",
       "      <td>Wg 96 KG</td>\n",
       "      <td>Bronze</td>\n",
       "    </tr>\n",
       "    <tr>\n",
       "      <th>31164</th>\n",
       "      <td>2012</td>\n",
       "      <td>London</td>\n",
       "      <td>Wrestling</td>\n",
       "      <td>Wrestling Freestyle</td>\n",
       "      <td>LIDBERG, Jimmy</td>\n",
       "      <td>SWE</td>\n",
       "      <td>Men</td>\n",
       "      <td>Wg 96 KG</td>\n",
       "      <td>Bronze</td>\n",
       "    </tr>\n",
       "  </tbody>\n",
       "</table>\n",
       "<p>31165 rows × 9 columns</p>\n",
       "</div>"
      ],
      "text/plain": [
       "       Year    City      Sport           Discipline  \\\n",
       "0      1896  Athens   Aquatics             Swimming   \n",
       "1      1896  Athens   Aquatics             Swimming   \n",
       "2      1896  Athens   Aquatics             Swimming   \n",
       "3      1896  Athens   Aquatics             Swimming   \n",
       "4      1896  Athens   Aquatics             Swimming   \n",
       "...     ...     ...        ...                  ...   \n",
       "31160  2012  London  Wrestling  Wrestling Freestyle   \n",
       "31161  2012  London  Wrestling  Wrestling Freestyle   \n",
       "31162  2012  London  Wrestling  Wrestling Freestyle   \n",
       "31163  2012  London  Wrestling  Wrestling Freestyle   \n",
       "31164  2012  London  Wrestling  Wrestling Freestyle   \n",
       "\n",
       "                         Athlete Country Gender                       Event  \\\n",
       "0                  HAJOS, Alfred     HUN    Men              100M Freestyle   \n",
       "1               HERSCHMANN, Otto     AUT    Men              100M Freestyle   \n",
       "2              DRIVAS, Dimitrios     GRE    Men  100M Freestyle For Sailors   \n",
       "3             MALOKINIS, Ioannis     GRE    Men  100M Freestyle For Sailors   \n",
       "4             CHASAPIS, Spiridon     GRE    Men  100M Freestyle For Sailors   \n",
       "...                          ...     ...    ...                         ...   \n",
       "31160         JANIKOWSKI, Damian     POL    Men                    Wg 84 KG   \n",
       "31161  REZAEI, Ghasem Gholamreza     IRI    Men                    Wg 96 KG   \n",
       "31162             TOTROV, Rustam     RUS    Men                    Wg 96 KG   \n",
       "31163          ALEKSANYAN, Artur     ARM    Men                    Wg 96 KG   \n",
       "31164             LIDBERG, Jimmy     SWE    Men                    Wg 96 KG   \n",
       "\n",
       "        Medal  \n",
       "0        Gold  \n",
       "1      Silver  \n",
       "2      Bronze  \n",
       "3        Gold  \n",
       "4      Silver  \n",
       "...       ...  \n",
       "31160  Bronze  \n",
       "31161    Gold  \n",
       "31162  Silver  \n",
       "31163  Bronze  \n",
       "31164  Bronze  \n",
       "\n",
       "[31165 rows x 9 columns]"
      ]
     },
     "execution_count": 3,
     "metadata": {},
     "output_type": "execute_result"
    }
   ],
   "source": [
    "df"
   ]
  },
  {
   "cell_type": "markdown",
   "id": "2380272f",
   "metadata": {},
   "source": [
    "### Q1: In how many cities Summer Olympics is held so far❓\n",
    "🔰 The unique() is used to get unique values & the len() returns the length."
   ]
  },
  {
   "cell_type": "code",
   "execution_count": 4,
   "id": "de1a849a",
   "metadata": {},
   "outputs": [
    {
     "name": "stdout",
     "output_type": "stream",
     "text": [
      "**************************************************************************\n",
      "💠These are the cities in which Summer Olympics are held so far💠:\n",
      "**************************************************************************\n",
      "['Athens' 'Paris' 'St Louis' 'London' 'Stockholm' 'Antwerp' 'Amsterdam'\n",
      " 'Los Angeles' 'Berlin' 'Helsinki' 'Melbourne / Stockholm' 'Rome' 'Tokyo'\n",
      " 'Mexico' 'Munich' 'Montreal' 'Moscow' 'Seoul' 'Barcelona' 'Atlanta'\n",
      " 'Sydney' 'Beijing']\n",
      "-------------------------------------------------------------------------------\n",
      "🛡️The Total number of Cities in which Summer Olympics is held so far is🛡️ = 22\n",
      "-------------------------------------------------------------------------------\n"
     ]
    }
   ],
   "source": [
    "Total_Cities = df['City'].unique()\n",
    "print('**************************************************************************')\n",
    "print('💠These are the cities in which Summer Olympics are held so far💠:')\n",
    "print('**************************************************************************')\n",
    "print(Total_Cities)\n",
    "print('-------------------------------------------------------------------------------')\n",
    "print(\"🛡️The Total number of Cities in which Summer Olympics is held so far is🛡️ =\", len(Total_Cities))\n",
    "print('-------------------------------------------------------------------------------')"
   ]
  },
  {
   "cell_type": "markdown",
   "id": "371e7241",
   "metadata": {},
   "source": [
    "### Q2: Which sport is having most number of Gold Medals so far❓ (Top 5)\n",
    "🔰 For splitting a data into groups, groupby() is used and to compute a summary statistic about each group, agg() is used which returns a single aggregated value for each group. \n",
    "\n",
    "🔰 Reset_index helps in resetting the index of the dataframe object to default indexing (0 to number of rows minus 1) or we can say to reset multi level index. By doing so, the original index gets converted to a column.\n",
    "\n",
    "🔰 Here, Sort_values() sorts a data frame in Descending order of passed Column by assigning \"False\" in Ascending order.\n",
    "\n",
    "🔰 Inplace = True means the data is modified in that place & will return nothing because now the dataframe is updated.\n",
    "\n",
    "🔰 Head() is used to return (Top 5 by default) rows of a dataframe. \n",
    "\n",
    "🔰 Sns Barplot shows point estimates and confidence intervals as rectangular bars. It helps in better visualization"
   ]
  },
  {
   "cell_type": "code",
   "execution_count": 5,
   "id": "55ba1c15",
   "metadata": {},
   "outputs": [
    {
     "name": "stdout",
     "output_type": "stream",
     "text": [
      "**********************************************\n",
      "     💠Sports and their Gold Medals💠    \n",
      "**********************************************\n",
      "         Sport  Medal\n",
      "0     Aquatics   1421\n",
      "2    Athletics   1215\n",
      "28      Rowing    890\n",
      "17  Gymnastics    820\n",
      "14     Fencing    552\n",
      "----------------------------------------------------------------------\n",
      "🥇Aquatics is the sport which has most number of Gold medals = 1421🥇\n",
      "----------------------------------------------------------------------\n"
     ]
    },
    {
     "data": {
      "text/plain": [
       "<AxesSubplot:title={'center':'Most number of Gold Medals so far (Top 5)'}, xlabel='Sport', ylabel='Medal'>"
      ]
     },
     "execution_count": 5,
     "metadata": {},
     "output_type": "execute_result"
    },
    {
     "data": {
      "image/png": "[encoded data removed]",
      "text/plain": [
       "<Figure size 432x288 with 1 Axes>"
      ]
     },
     "metadata": {
      "needs_background": "light"
     },
     "output_type": "display_data"
    }
   ],
   "source": [
    "Gold_Medals = df[df['Medal']=='Gold'].groupby('Sport').agg({'Medal':'count'})\n",
    "Gold_Medals.reset_index(inplace=True)\n",
    "Gold_Medals.sort_values(by='Medal', ascending=False, inplace=True)\n",
    "Gold_Medals = Gold_Medals.head()\n",
    "print('**********************************************')\n",
    "print('     💠Sports and their Gold Medals💠    ')\n",
    "print('**********************************************')\n",
    "print(Gold_Medals)\n",
    "plt.title('Most number of Gold Medals so far (Top 5)')\n",
    "print('----------------------------------------------------------------------')\n",
    "print('🥇Aquatics is the sport which has most number of Gold medals = 1421🥇')\n",
    "print('----------------------------------------------------------------------')\n",
    "sns.barplot(x='Sport', y='Medal', data= Gold_Medals)"
   ]
  },
  {
   "cell_type": "markdown",
   "id": "ab6193b7",
   "metadata": {},
   "source": [
    "### Q3: Which sport is having most number of Medals so far❓ (Top 5)"
   ]
  },
  {
   "cell_type": "code",
   "execution_count": 6,
   "id": "532791cf",
   "metadata": {},
   "outputs": [
    {
     "name": "stdout",
     "output_type": "stream",
     "text": [
      "**********************************************\n",
      "     💠Sports and their Most Medals💠     \n",
      "**********************************************\n",
      "         Sport  Medal\n",
      "0     Aquatics   4170\n",
      "2    Athletics   3638\n",
      "28      Rowing   2667\n",
      "17  Gymnastics   2307\n",
      "14     Fencing   1613\n",
      "-----------------------------------------------------------------\n",
      "🏅Aquatics is the sport which has most number of Medals = 4170🏅\n",
      "-----------------------------------------------------------------\n"
     ]
    },
    {
     "data": {
      "text/plain": [
       "<AxesSubplot:title={'center':'Most number of Medals so far (Top 5)'}, xlabel='Sport', ylabel='Medal'>"
      ]
     },
     "execution_count": 6,
     "metadata": {},
     "output_type": "execute_result"
    },
    {
     "data": {
      "image/png": "[encoded data removed]",
      "text/plain": [
       "<Figure size 432x288 with 1 Axes>"
      ]
     },
     "metadata": {
      "needs_background": "light"
     },
     "output_type": "display_data"
    }
   ],
   "source": [
    "Most_Medals = df.groupby('Sport').agg({'Medal':'count'})\n",
    "Most_Medals.reset_index(inplace=True)\n",
    "Most_Medals.sort_values(by='Medal', ascending=False, inplace=True)\n",
    "Most_Medals = Most_Medals.head()\n",
    "print('**********************************************')\n",
    "print('     💠Sports and their Most Medals💠     ')\n",
    "print('**********************************************')\n",
    "print(Most_Medals)\n",
    "plt.title('Most number of Medals so far (Top 5)')\n",
    "print('-----------------------------------------------------------------')\n",
    "print('🏅Aquatics is the sport which has most number of Medals = 4170🏅')\n",
    "print('-----------------------------------------------------------------')\n",
    "sns.barplot(x='Sport', y='Medal', data=Most_Medals)"
   ]
  },
  {
   "cell_type": "markdown",
   "id": "a109845a",
   "metadata": {},
   "source": [
    "### Q4: Which player has won most number of Medals❓ (Top 5)\n",
    "🔰 Fig, ax, figsize - These all are used for plotting the graph with specified dimension.\n",
    "\n",
    "🔰 Subplot() adds a group of smaller axes to a current figure at the specified grid position."
   ]
  },
  {
   "cell_type": "code",
   "execution_count": 7,
   "id": "bffeb87b",
   "metadata": {},
   "outputs": [
    {
     "name": "stdout",
     "output_type": "stream",
     "text": [
      "**********************************************\n",
      "     💠Player who has won Most Medals💠     \n",
      "**********************************************\n",
      "                    Athlete  Medal\n",
      "15702       PHELPS, Michael     22\n",
      "11202      LATYNINA, Larisa     18\n",
      "511      ANDRIANOV, Nikolay     15\n",
      "12476  MANGIAROTTI, Edoardo     13\n",
      "14883          ONO, Takashi     13\n",
      "-----------------------------------------------------------------------------------------------\n",
      "🏅PHELPS, Michael (i.e. Michael Phelps) is the player who has won most number of Medals = 22🏅\n",
      "-----------------------------------------------------------------------------------------------\n"
     ]
    },
    {
     "data": {
      "image/png": "[encoded data removed]",
      "text/plain": [
       "<Figure size 720x720 with 1 Axes>"
      ]
     },
     "metadata": {
      "needs_background": "light"
     },
     "output_type": "display_data"
    }
   ],
   "source": [
    "Player = df.groupby('Athlete').agg({'Medal':'count'})\n",
    "Player.reset_index(inplace=True)\n",
    "Player.sort_values(by='Medal', ascending=False, inplace=True)\n",
    "Player = Player.head()\n",
    "print('**********************************************')\n",
    "print('     💠Player who has won Most Medals💠     ')\n",
    "print('**********************************************')\n",
    "print(Player)\n",
    "fig, ax = plt.subplots(figsize=(10, 10))\n",
    "sns.barplot(x='Athlete', y='Medal', data=Player, ax=ax)\n",
    "plt.xlabel(\"Athletes\")\n",
    "plt.ylabel(\"Total Number of Medals Won\")\n",
    "print('-----------------------------------------------------------------------------------------------')\n",
    "print('🏅PHELPS, Michael (i.e. Michael Phelps) is the player who has won most number of Medals = 22🏅')\n",
    "print('-----------------------------------------------------------------------------------------------')\n"
   ]
  },
  {
   "cell_type": "markdown",
   "id": "7ca43921",
   "metadata": {},
   "source": [
    "### Q5: Which player has won most number of Gold Medals❓ (Top 5)"
   ]
  },
  {
   "cell_type": "code",
   "execution_count": 8,
   "id": "e846062a",
   "metadata": {},
   "outputs": [
    {
     "name": "stdout",
     "output_type": "stream",
     "text": [
      "**********************************************\n",
      "     💠Player who has won Most Gold Medals💠     \n",
      "**********************************************\n",
      "               Athlete  Medal\n",
      "5712   PHELPS, Michael     18\n",
      "4186       LEWIS, Carl      9\n",
      "5332      NURMI, Paavo      9\n",
      "6905       SPITZ, Mark      9\n",
      "4066  LATYNINA, Larisa      9\n",
      "----------------------------------------------------------------------------------------------------\n",
      "🥇PHELPS, Michael (i.e. Michael Phelps) is the player who has won most number of Gold Medals = 18🥇\n",
      "----------------------------------------------------------------------------------------------------\n"
     ]
    },
    {
     "data": {
      "image/png": "[encoded data removed]",
      "text/plain": [
       "<Figure size 576x576 with 1 Axes>"
      ]
     },
     "metadata": {
      "needs_background": "light"
     },
     "output_type": "display_data"
    }
   ],
   "source": [
    "Player_Gold_Medals = df[df['Medal']=='Gold'].groupby('Athlete').agg({'Medal': 'count'})\n",
    "Player_Gold_Medals.reset_index(inplace=True)\n",
    "Player_Gold_Medals.sort_values(by='Medal', ascending=False, inplace=True)\n",
    "Player_Gold_Medals = Player_Gold_Medals.head()\n",
    "print('**********************************************')\n",
    "print('     💠Player who has won Most Gold Medals💠     ')\n",
    "print('**********************************************')\n",
    "print(Player_Gold_Medals)\n",
    "fig, ax = plt.subplots(figsize=(8, 8))\n",
    "sns.barplot(x='Athlete', y='Medal', data=Player_Gold_Medals, ax=ax)\n",
    "plt.xlabel(\"Athletes\")\n",
    "plt.ylabel(\"Total Number of Gold Medals Won\")\n",
    "print('----------------------------------------------------------------------------------------------------')\n",
    "print('🥇PHELPS, Michael (i.e. Michael Phelps) is the player who has won most number of Gold Medals = 18🥇')\n",
    "print('----------------------------------------------------------------------------------------------------')\n"
   ]
  },
  {
   "cell_type": "markdown",
   "id": "5c7231fa",
   "metadata": {},
   "source": [
    "### Q6: In which year India won its first Gold Medal in Summer Olympics❓\n",
    "🔰 Min() is used here to find the first year in this increasing years of ordered list."
   ]
  },
  {
   "cell_type": "code",
   "execution_count": 9,
   "id": "61158dd3",
   "metadata": {},
   "outputs": [
    {
     "name": "stdout",
     "output_type": "stream",
     "text": [
      "---------------------------------------------------------------------------\n",
      "🥇India won its first Gold Medal in Summer Olympics in the year🥇 = [1928]\n",
      "---------------------------------------------------------------------------\n"
     ]
    }
   ],
   "source": [
    "Year = df[df.Medal == 'Gold']\n",
    "Year_date = min(Year[Year.Country == 'IND'].Year)\n",
    "print('---------------------------------------------------------------------------')\n",
    "print('🥇India won its first Gold Medal in Summer Olympics in the year🥇 =', [Year_date])\n",
    "print('---------------------------------------------------------------------------')"
   ]
  },
  {
   "cell_type": "markdown",
   "id": "e5d42713",
   "metadata": {},
   "source": [
    "### Q7: Which event is most popular in terms of number of players❓ (Top 5)"
   ]
  },
  {
   "cell_type": "code",
   "execution_count": 10,
   "id": "7a5f4c72",
   "metadata": {},
   "outputs": [
    {
     "name": "stdout",
     "output_type": "stream",
     "text": [
      "**********************************************\n",
      "     💠Athletes participating in Events💠     \n",
      "**********************************************\n",
      "                Event  Athlete\n",
      "477          Football     1497\n",
      "489            Hockey     1422\n",
      "614  Team Competition     1147\n",
      "403        Basketball     1012\n",
      "483          Handball      973\n",
      "---------------------------------------------------------------------------------------------------------------------\n",
      "🛡️Observation: As per the statistics, the Top 5 most popular events based on number of atheletes participating are🛡️:\n",
      "\n",
      "⚽Football⚽ > 🏑Hockey🏑 > 📛Team Competition📛 > 🏀Basketball🏀 > 🤾Handball🤾\n",
      "\n",
      "⛹️So, Football is the most popular event as there are these no. of Total Athletes participating in it = 1497⛹️\n",
      "---------------------------------------------------------------------------------------------------------------------\n"
     ]
    },
    {
     "data": {
      "image/png": "[encoded data removed]",
      "text/plain": [
       "<Figure size 576x576 with 1 Axes>"
      ]
     },
     "metadata": {
      "needs_background": "light"
     },
     "output_type": "display_data"
    }
   ],
   "source": [
    "Most_Popular_Events = df.groupby('Event').agg({'Athlete':'count'})\n",
    "Most_Popular_Events.reset_index(inplace=True)\n",
    "Most_Popular_Events.sort_values(by='Athlete', ascending=False, inplace=True)\n",
    "Most_Popular_Events = Most_Popular_Events.head()\n",
    "print('**********************************************')\n",
    "print('     💠Athletes participating in Events💠     ')\n",
    "print('**********************************************')\n",
    "print(Most_Popular_Events)\n",
    "fig, ax = plt.subplots(figsize=(8, 8))\n",
    "sns.barplot(x='Event', y='Athlete', data=Most_Popular_Events, ax=ax)\n",
    "plt.xlabel(\"Events\")\n",
    "plt.ylabel(\"Athletes\")\n",
    "print('---------------------------------------------------------------------------------------------------------------------')\n",
    "print('🛡️Observation: As per the statistics, the Top 5 most popular events based on number of atheletes participating are🛡️:')\n",
    "print('')\n",
    "print('⚽Football⚽ > 🏑Hockey🏑 > 📛Team Competition📛 > 🏀Basketball🏀 > 🤾Handball🤾')\n",
    "print('')\n",
    "print('⛹️So, Football is the most popular event as there are these no. of Total Athletes participating in it = 1497⛹️')\n",
    "print('---------------------------------------------------------------------------------------------------------------------')"
   ]
  },
  {
   "cell_type": "markdown",
   "id": "c8ab1cfa",
   "metadata": {},
   "source": [
    "### Q8: Which sport is having most female Gold Medalists❓ (Top 5)"
   ]
  },
  {
   "cell_type": "code",
   "execution_count": 11,
   "id": "c8aa091c",
   "metadata": {},
   "outputs": [
    {
     "name": "stdout",
     "output_type": "stream",
     "text": [
      "***********************************************************\n",
      "     💠Sport having Female Gold Medalists💠     \n",
      "***********************************************************\n",
      "         Sport  Medal\n",
      "0     Aquatics    589\n",
      "2    Athletics    389\n",
      "13  Gymnastics    268\n",
      "18      Rowing    217\n",
      "27  Volleyball    166\n",
      "----------------------------------------------------------------------------------------\n",
      "🥇Aquatics is the sport in which there are most number of Female Gold Medalists = 589🥇\n",
      "----------------------------------------------------------------------------------------\n"
     ]
    },
    {
     "data": {
      "image/png": "[encoded data removed]",
      "text/plain": [
       "<Figure size 360x360 with 1 Axes>"
      ]
     },
     "metadata": {
      "needs_background": "light"
     },
     "output_type": "display_data"
    }
   ],
   "source": [
    "Sport_Female_Gold_Medalists = df[(df['Medal']=='Gold') & (df['Gender'] == 'Women')].groupby('Sport').agg({'Medal':'count'})\n",
    "Sport_Female_Gold_Medalists.reset_index(inplace=True)\n",
    "Sport_Female_Gold_Medalists.sort_values(by='Medal', ascending=False, inplace=True)\n",
    "Sport_Female_Gold_Medalists = Sport_Female_Gold_Medalists.head()\n",
    "print('***********************************************************')\n",
    "print('     💠Sport having Female Gold Medalists💠     ')\n",
    "print('***********************************************************')\n",
    "print(Sport_Female_Gold_Medalists)\n",
    "fig, ax = plt.subplots(figsize=(5, 5))\n",
    "sns.barplot(x='Sport', y='Medal', data=Sport_Female_Gold_Medalists, ax=ax)\n",
    "plt.xlabel(\"Sport\")\n",
    "plt.ylabel(\"Total Number of Gold Medals Won\")\n",
    "print('----------------------------------------------------------------------------------------')\n",
    "print('🥇Aquatics is the sport in which there are most number of Female Gold Medalists = 589🥇')\n",
    "print('----------------------------------------------------------------------------------------')\n"
   ]
  },
  {
   "cell_type": "code",
   "execution_count": null,
   "id": "fc5625d9",
   "metadata": {},
   "outputs": [],
   "source": []
  }
 ],
 "metadata": {
  "kernelspec": {
   "display_name": "Python 3",
   "language": "python",
   "name": "python3"
  },
  "language_info": {
   "codemirror_mode": {
    "name": "ipython",
    "version": 3
   },
   "file_extension": ".py",
   "mimetype": "text/x-python",
   "name": "python",
   "nbconvert_exporter": "python",
   "pygments_lexer": "ipython3",
   "version": "3.9.5"
  }
 },
 "nbformat": 4,
 "nbformat_minor": 5
}
